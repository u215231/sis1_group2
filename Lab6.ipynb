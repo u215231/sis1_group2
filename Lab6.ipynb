{
 "cells": [
  {
   "cell_type": "markdown",
   "metadata": {
    "id": "tRGt5ehz5ad-"
   },
   "source": [
    "**Lab 6: IIR Filtering**\n",
    "\n",
    "\n",
    "The objective for this lab is to help you understand the relationship between the location\n",
    "of poles and zeros in the z-domain, the impulse response h[n] in the n-domain, and the frequency\n",
    "response $H(e^{j\\omega})$. We use the system function,\n",
    "represented as a ratio of polynomials in $z^{-1}$, which can be expressed in either factored or expanded form as:\n",
    "\n",
    "$$\n",
    "H(z) = G\\frac{\\prod_{k=1}^M (1-z_kz^{-1}) }{\\prod_{k=1}^N (1-p_kz^{-1})} = \\frac{ \\sum_{k=0}^M b_kz^{-k}}{ 1- \\sum_{k=1}^N a_kz^{-k} }\n",
    "$$\n",
    "\n",
    "Authors:\n",
    "*   Marc Bosch Manzano. U215231.\n",
    "*   Arnau Balart Correa. U162432.\n",
    "\n",
    "Delivered Date: 20/11/2024."
   ]
  },
  {
   "cell_type": "code",
   "execution_count": 1,
   "metadata": {},
   "outputs": [],
   "source": [
    "# IMPORTANT: Flags for the conditional imports\n",
    "google_colab = False\n",
    "authors = True"
   ]
  },
  {
   "cell_type": "code",
   "execution_count": 2,
   "metadata": {
    "id": "NzW2CfE95cEv"
   },
   "outputs": [],
   "source": [
    "if (not authors) or google_colab:\n",
    "    folder = 'sis1_group2/audio/'\n",
    "    !git clone https://github.com/u215231/sis1_group2.git\n",
    "    from sis1_group2.util import (load_audio, plot_signals, plot_spectrogram, plot_frequency_response)\n",
    "else:\n",
    "    folder = 'audio/'\n",
    "    from util import (load_audio, plot_signals, plot_spectrogram, plot_frequency_response)\n",
    "\n",
    "import numpy as np\n",
    "import IPython.display as ipd\n",
    "from scipy import signal\n",
    "import matplotlib.pyplot as plt"
   ]
  },
  {
   "cell_type": "markdown",
   "metadata": {
    "id": "rT7iKUVl9meo"
   },
   "source": [
    "**1. IIR filters to extract the envelope**\n",
    "\n",
    "In the previous labs, you extracted the envelope from your reference signal by applying the following system:\n",
    "\n",
    "![envelope_detector.png](data:image/png;base64,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)\n",
    "\n",
    "where $w[n] = |x[n]|$ and $y[n]$ was the output of a low-pass FIR filter (averaging filter). In this exercise, you will re-implement this low-pass filter as an IIR."
   ]
  },
  {
   "cell_type": "markdown",
   "metadata": {
    "id": "64FTb7xeDNTu"
   },
   "source": [
    "1.1 First, copy the functions envelope and synthesize from previous work and obtain the same synthesis. \n",
    "\n"
   ]
  },
  {
   "cell_type": "code",
   "execution_count": null,
   "metadata": {
    "id": "uIwNmjTlia8P"
   },
   "outputs": [],
   "source": [
    "# Write your code here"
   ]
  },
  {
   "cell_type": "markdown",
   "metadata": {
    "id": "N5WPKRKCE7KC"
   },
   "source": [
    "1.2 Let's take a look at the following system:\n",
    "\n",
    "$$\n",
    "H(z) = G\\frac{1+z^{-1}}{1-rz^{-1}} \\quad   0<r<1 \\quad, G = \\frac{1-r}{2}\n",
    "$$\n",
    "\n",
    "Note that the coefficients of the filter are the following:\n",
    "\n",
    "$$\n",
    "b_0 = 1, \\quad b_1 = 1, \\quad a_0 = 1, \\quad a_1 = -r, \\quad\n",
    "$$\n",
    "\n",
    "i. Find the zeros and poles of the system analytically."
   ]
  },
  {
   "cell_type": "markdown",
   "metadata": {
    "id": "DFFwqqmoWFdA"
   },
   "source": [
    "[Double click to write your answer]"
   ]
  },
  {
   "cell_type": "markdown",
   "metadata": {
    "id": "iFwMg3lZWGPQ"
   },
   "source": [
    "ii. Use the function `np.roots` to find the zeros and poles using Python. Compare the results with part i."
   ]
  },
  {
   "cell_type": "code",
   "execution_count": null,
   "metadata": {
    "id": "XzQKrAf8WBnW"
   },
   "outputs": [],
   "source": [
    "# Write your code here"
   ]
  },
  {
   "cell_type": "markdown",
   "metadata": {
    "id": "DlvKb7prWIbn"
   },
   "source": [
    "iii. Use the function  `plot_zeros_poles(z, p)` to plot the zeros and poles found in ii."
   ]
  },
  {
   "cell_type": "code",
   "execution_count": null,
   "metadata": {
    "id": "5omBY7i2WJD3"
   },
   "outputs": [],
   "source": [
    "from sis1lab.util import plot_zeros_poles\n",
    "\n",
    "# Write your code here"
   ]
  },
  {
   "cell_type": "markdown",
   "metadata": {
    "id": "_OO-QUYZLr8S"
   },
   "source": [
    "1.3 Let's see the frequency response of this filter:\n",
    "\n"
   ]
  },
  {
   "cell_type": "code",
   "execution_count": null,
   "metadata": {
    "id": "74YfcJrmDfii"
   },
   "outputs": [],
   "source": [
    "ww = np.arange(-np.pi, np.pi, np.pi/500)\n",
    "r = 0.9\n",
    "G = (1 - r)/2\n",
    "_, HH = signal.freqz([G, G], [1 , -r], ww)\n",
    "\n",
    "plot_frequency_response(ww, HH)"
   ]
  },
  {
   "cell_type": "markdown",
   "metadata": {
    "id": "BNBnVE8UMh32"
   },
   "source": [
    "1.4. Change the parameter $r$ in the range $(0, 1)$. What happens when $r$ is increased?"
   ]
  },
  {
   "cell_type": "markdown",
   "metadata": {
    "id": "QBB8-aCfNLaZ"
   },
   "source": [
    "[Double click to write your answer]"
   ]
  },
  {
   "cell_type": "markdown",
   "metadata": {
    "id": "7Julmw_jNQNc"
   },
   "source": [
    "1.5 What type of filter is (low-pass, band-pass, or high-pass filter)?\n"
   ]
  },
  {
   "cell_type": "markdown",
   "metadata": {
    "id": "nC6TEgMdNof6"
   },
   "source": [
    "[Double click to write your answer]"
   ]
  },
  {
   "cell_type": "markdown",
   "metadata": {
    "id": "fuxzcurPNrDd"
   },
   "source": [
    "1.6 Now we can use this IIR filter to extract the envelope. Let's define a new function `envelope_iir(x)` that applies the filter to the absolute value of the signal. Note that we are using signal.lfilter function to apply the filter.\n"
   ]
  },
  {
   "cell_type": "code",
   "execution_count": null,
   "metadata": {
    "id": "EUV_W6-GMgze"
   },
   "outputs": [],
   "source": [
    "def envelope_iir(x, r=0.995):\n",
    "  G = (1 - r)/2\n",
    "  y = signal.lfilter([G, G], [1, -r], np.abs(x))\n",
    "  return y"
   ]
  },
  {
   "cell_type": "markdown",
   "metadata": {
    "id": "M8QlPifSOZQ_"
   },
   "source": [
    "Extract the envelope of your reference signal using both the FIR and IIR filters and compare the results plot them along with the signal. Change the value of $r$ until you are comfortable with the result."
   ]
  },
  {
   "cell_type": "code",
   "execution_count": null,
   "metadata": {
    "id": "jwqXMbX1OJBm"
   },
   "outputs": [],
   "source": [
    "# Write your code here"
   ]
  },
  {
   "cell_type": "markdown",
   "metadata": {
    "id": "TIR7xGFlO2ug"
   },
   "source": [
    "1.7 What are the main differences between the two filters? For instance, compare the number of coefficients."
   ]
  },
  {
   "cell_type": "markdown",
   "metadata": {
    "id": "epowKhs1PAPt"
   },
   "source": [
    "[Double click to write your answer]"
   ]
  },
  {
   "cell_type": "markdown",
   "metadata": {
    "id": "N-i3J_MkPnSc"
   },
   "source": [
    "1.8 Apply the new envelope (extracted from the IIR filter) to the synthesis generated with the `synthesize` function and listen to the result."
   ]
  },
  {
   "cell_type": "code",
   "execution_count": null,
   "metadata": {
    "id": "ZOs4lTM-V6F5"
   },
   "outputs": [],
   "source": [
    "# Write your code here"
   ]
  },
  {
   "cell_type": "markdown",
   "metadata": {
    "id": "LZAxSl7xP0zZ"
   },
   "source": [
    "---"
   ]
  },
  {
   "cell_type": "markdown",
   "metadata": {
    "id": "7Bg2sbL9aGaL"
   },
   "source": [
    "**2. Band-pass filters**"
   ]
  },
  {
   "cell_type": "markdown",
   "metadata": {
    "id": "5fzaFxPOdTtW"
   },
   "source": [
    "Now let's work with the following system: \n",
    "\n",
    "$$\n",
    "H(z) = \\frac{(1-z^{-1})(1+z^{-1})}{(1-re^{j\\omega_n}z^{-1})(1-re^{-j\\omega_n}z^{-1})}, \\quad 0<r<1\n",
    "$$\n",
    "\n",
    "Note that the poles are $p_1 = re^{j\\omega_n}$ and $p_2 = re^{-j\\omega_n}$; and the zeros are $z_1=1$ and $z_2=-1$. "
   ]
  },
  {
   "cell_type": "markdown",
   "metadata": {
    "id": "BFHMIXUDeBM7"
   },
   "source": [
    "2.1 Use the function `plot_zeros_poles` to plot the zeros and poles of the system.\n",
    "\n",
    "Note: use $w_n = \\pi/4$ and $r=0.99$."
   ]
  },
  {
   "cell_type": "code",
   "execution_count": null,
   "metadata": {
    "id": "UohTNtdadTNX"
   },
   "outputs": [],
   "source": [
    "# Write your code here"
   ]
  },
  {
   "cell_type": "markdown",
   "metadata": {
    "id": "gK8yRsErfzOS"
   },
   "source": [
    "2.2 Show analytically that $a_k = [1, -2rcos(\\omega_n), r^2]$ and $b_k=[1, 0, -1]$."
   ]
  },
  {
   "cell_type": "markdown",
   "metadata": {
    "id": "PxqIarxdhVRc"
   },
   "source": [
    "[Double click to write your answer]"
   ]
  },
  {
   "cell_type": "markdown",
   "metadata": {
    "id": "d3tKEhjmhv0X"
   },
   "source": [
    "2.3 Plot the frequency response of the filter. Confirm this is a band-pass filter. What's the central frequency of the passband?"
   ]
  },
  {
   "cell_type": "code",
   "execution_count": null,
   "metadata": {
    "id": "qSLcYEYnhwhS"
   },
   "outputs": [],
   "source": [
    "# Write your code here"
   ]
  },
  {
   "cell_type": "markdown",
   "metadata": {
    "id": "5V3u7cnDh2Et"
   },
   "source": [
    "[Double click to write your answer]\n"
   ]
  },
  {
   "cell_type": "markdown",
   "metadata": {
    "id": "O1G4Cxr4hdeX"
   },
   "source": [
    "2.4 Define a function `bpf(x, f, r, fs)` that applies the above band-pass filter. \n",
    "\n",
    "Note 1: remember that a frequency can be converted to the normalized radian frequncy by: $\\omega_n = 2\\pi f_n/f_s$.\n",
    "\n",
    "Note 2: use `signal.lfilter` function to implement the filter."
   ]
  },
  {
   "cell_type": "code",
   "execution_count": null,
   "metadata": {
    "id": "gqlo66jquzOS"
   },
   "outputs": [],
   "source": [
    "def bpf(x, fn, fs, r=0.995):\n",
    "  \"\"\"Applies a band-pass filter with central frequency fn\n",
    "\n",
    "  Parameters\n",
    "  ----------\n",
    "  x : np.array\n",
    "      The input signal in the form of a numpy array\n",
    "  fn: int or float\n",
    "      Central frequency of the band pass in Hz \n",
    "  fs : int or float\n",
    "      Frequency rate in Hz\n",
    "  r: float\n",
    "      Magnitude of the poles\n",
    "\n",
    "  Returns\n",
    "  -------\n",
    "  y : np.array\n",
    "      The output of the filter\n",
    "\n",
    "  \"\"\"\n",
    "  # Write your code here"
   ]
  },
  {
   "cell_type": "markdown",
   "metadata": {
    "id": "n_HJJzLVlbtq"
   },
   "source": [
    "2.5 Regardless of the phase, until now we were synthesizing the instrument signal by summing $K$ harmonics of the signal with different weights ($A_k$) and multiplying the sum by the envelope of the reference signal ($e(t)$):\n",
    "\n",
    "$$y(t) = e(t) \\cdot \\sum_{k=1}^K A_k\\cos\\left(2\\pi kf_0 t \\right), $$\n",
    "\n",
    "where $f_0$ is the fundamental frequency of the note. Now we want to improve this synthesis by finding a time-dependent amplitude ($A_k(t)$) for each harmonic:\n",
    "\n",
    "$$y(t) = \\sum_{k=1}^K A_k(t) \\cos\\left(2\\pi kf_0 t \\right), $$\n",
    "\n",
    "where $A_k(t)$ is the amplitude of the harmonic $k$. To extract the amplitudes $A_k(t)$ we'll apply a band-pass filter with central frequency $kf_0$ and calculate the envelope of the output by using the `envelope_iir`.\n"
   ]
  },
  {
   "cell_type": "markdown",
   "metadata": {
    "id": "Zpe4VxJMuxU5"
   },
   "source": [
    "![Ak.png](data:image/png;base64,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)"
   ]
  },
  {
   "cell_type": "markdown",
   "metadata": {
    "id": "ivw_Q8uCm5qq"
   },
   "source": [
    "For instance, the following code should extract the envelope of the fundamental frequency component. Change the value of $f_0$ to coincide with your fundamental frequency and check the result. "
   ]
  },
  {
   "cell_type": "code",
   "execution_count": null,
   "metadata": {
    "id": "O5AEaR4B_ewl"
   },
   "outputs": [],
   "source": [
    "f0 = # put your fundamental frequency here\n",
    "x_1 = bpf(x, f0, fs)\n",
    "A_1 = envelope_iir(x_1, r=0.999)\n",
    "plot_signals([x_1, A_1], fs, t_start=0, t_end=1.5, name=['x_1(t)', 'A_1(t)'])"
   ]
  },
  {
   "cell_type": "markdown",
   "metadata": {
    "id": "M6EtRT4AALp2"
   },
   "source": [
    "2.6 Complete the `synthetize_with_bpf` function to implement a synthesis applying different envelopes for each harmonic.\n"
   ]
  },
  {
   "cell_type": "code",
   "execution_count": null,
   "metadata": {
    "id": "S1gkCZ7Vzu9L"
   },
   "outputs": [],
   "source": [
    "def synthetize_with_bpf(x, f0, phi, K, fs):\n",
    "  \"\"\"Synthetizes an harmonic signal using different envelopes for each harmonic\n",
    "  The envelops are extracted from the reference signal x.\n",
    "\n",
    "  Parameters\n",
    "  ----------\n",
    "  x : np.array\n",
    "      The reference signal in the form of a numpy array\n",
    "  f0: int or float\n",
    "      Fundamental frequency of the synthesis\n",
    "  phi : float\n",
    "      Phase\n",
    "  K: int\n",
    "      Number of harmonics\n",
    "  fs : int or float\n",
    "      Frequency rate in Hz\n",
    "\n",
    "  Returns\n",
    "  -------\n",
    "  y : np.array\n",
    "      The output of the filter\n",
    "\n",
    "  \"\"\"\n",
    "  Ts = 1/float(fs)\n",
    "  t = np.arange(0, len(x)*Ts, Ts)\n",
    "\n",
    "  y = 0\n",
    "  for k in range(1, int(K) + 1):\n",
    "    x_k = # output of the BPF filter\n",
    "    A_k = # output of the envelope extractor\n",
    "    y += A_k * np.cos(2*np.pi*k*f0*t + k*phi - (k-1)*np.pi/2)\n",
    "\n",
    "  y = np.amax(x)*y/np.amax(y) # normalize the output\n",
    "  return y"
   ]
  },
  {
   "cell_type": "markdown",
   "metadata": {
    "id": "Xdt6EKuDbcGi"
   },
   "source": [
    "2.6 Call the function `synthetize_with_bpf` to get the synthesized signal and **listen to it**.\n",
    "\n",
    "Note that now you can increase the number of harmonics $K$ as you want because we are not manually measuring the weights of each harmonic."
   ]
  },
  {
   "cell_type": "code",
   "execution_count": null,
   "metadata": {
    "id": "RMZbTKXKzoMM"
   },
   "outputs": [],
   "source": [
    "# Write your code here"
   ]
  },
  {
   "cell_type": "markdown",
   "metadata": {
    "id": "qCnjCP6KqYLn"
   },
   "source": [
    "2.7 Compare the **spectrograms** of the synthesized signal and reference signal."
   ]
  },
  {
   "cell_type": "code",
   "execution_count": null,
   "metadata": {
    "id": "fsFZyhdjqa5z"
   },
   "outputs": [],
   "source": [
    "# Write your code here"
   ]
  }
 ],
 "metadata": {
  "colab": {
   "collapsed_sections": [],
   "name": "Lab6.ipynb",
   "provenance": []
  },
  "kernelspec": {
   "display_name": "Python 3",
   "name": "python3"
  },
  "language_info": {
   "codemirror_mode": {
    "name": "ipython",
    "version": 3
   },
   "file_extension": ".py",
   "mimetype": "text/x-python",
   "name": "python",
   "nbconvert_exporter": "python",
   "pygments_lexer": "ipython3",
   "version": "3.12.7"
  }
 },
 "nbformat": 4,
 "nbformat_minor": 0
}
